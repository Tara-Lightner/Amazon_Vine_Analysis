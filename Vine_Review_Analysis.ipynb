{
  "nbformat": 4,
  "nbformat_minor": 0,
  "metadata": {
    "colab": {
      "name": "Vine_Review_Analysis.ipynb",
      "provenance": [],
      "authorship_tag": "ABX9TyN+yHyMAAXASXR3R9yB40IY",
      "include_colab_link": true
    },
    "kernelspec": {
      "name": "python3",
      "display_name": "Python 3"
    },
    "language_info": {
      "name": "python"
    }
  },
  "cells": [
    {
      "cell_type": "markdown",
      "metadata": {
        "id": "view-in-github",
        "colab_type": "text"
      },
      "source": [
        "<a href=\"https://colab.research.google.com/github/Tara-Lightner/Amazon_Vine_Analysis/blob/main/Vine_Review_Analysis.ipynb\" target=\"_parent\"><img src=\"https://colab.research.google.com/assets/colab-badge.svg\" alt=\"Open In Colab\"/></a>"
      ]
    },
    {
      "cell_type": "code",
      "execution_count": 1,
      "metadata": {
        "colab": {
          "base_uri": "https://localhost:8080/"
        },
        "id": "YVC7cFsZTFTK",
        "outputId": "3cfaf8ae-71fb-47a2-cd2a-6e5dd38b426e"
      },
      "outputs": [
        {
          "output_type": "stream",
          "name": "stdout",
          "text": [
            "\r0% [Working]\r            \rGet:1 http://security.ubuntu.com/ubuntu bionic-security InRelease [88.7 kB]\n",
            "\r0% [Connecting to archive.ubuntu.com] [1 InRelease 11.3 kB/88.7 kB 13%] [Connec\r                                                                               \rHit:2 https://developer.download.nvidia.com/compute/cuda/repos/ubuntu1804/x86_64  InRelease\n",
            "\r0% [Connecting to archive.ubuntu.com (91.189.91.38)] [1 InRelease 31.5 kB/88.7 \r0% [2 InRelease gpgv 1,581 B] [Connecting to archive.ubuntu.com (91.189.91.38)]\r                                                                               \rGet:3 https://cloud.r-project.org/bin/linux/ubuntu bionic-cran40/ InRelease [3,626 B]\n",
            "\r0% [2 InRelease gpgv 1,581 B] [Waiting for headers] [1 InRelease 51.8 kB/88.7 k\r0% [2 InRelease gpgv 1,581 B] [Waiting for headers] [1 InRelease 51.8 kB/88.7 k\r                                                                               \rHit:4 http://archive.ubuntu.com/ubuntu bionic InRelease\n",
            "Get:5 http://archive.ubuntu.com/ubuntu bionic-updates InRelease [88.7 kB]\n",
            "Ign:6 https://developer.download.nvidia.com/compute/machine-learning/repos/ubuntu1804/x86_64  InRelease\n",
            "Hit:7 https://developer.download.nvidia.com/compute/machine-learning/repos/ubuntu1804/x86_64  Release\n",
            "Hit:8 http://ppa.launchpad.net/c2d4u.team/c2d4u4.0+/ubuntu bionic InRelease\n",
            "Get:9 http://archive.ubuntu.com/ubuntu bionic-backports InRelease [74.6 kB]\n",
            "Hit:10 http://ppa.launchpad.net/cran/libgit2/ubuntu bionic InRelease\n",
            "Hit:11 http://ppa.launchpad.net/deadsnakes/ppa/ubuntu bionic InRelease\n",
            "Hit:12 http://ppa.launchpad.net/graphics-drivers/ppa/ubuntu bionic InRelease\n",
            "Get:13 http://security.ubuntu.com/ubuntu bionic-security/universe amd64 Packages [1,526 kB]\n",
            "Get:15 http://archive.ubuntu.com/ubuntu bionic-updates/main amd64 Packages [3,329 kB]\n",
            "Get:16 http://security.ubuntu.com/ubuntu bionic-security/restricted amd64 Packages [1,057 kB]\n",
            "Get:17 http://security.ubuntu.com/ubuntu bionic-security/main amd64 Packages [2,897 kB]\n",
            "Get:18 http://archive.ubuntu.com/ubuntu bionic-updates/universe amd64 Packages [2,302 kB]\n",
            "Fetched 11.4 MB in 31s (367 kB/s)\n",
            "Reading package lists... Done\n"
          ]
        }
      ],
      "source": [
        "import os\n",
        "# Find the latest version of spark 3.0 from http://www.apache.org/dist/spark/ and enter as the spark version\n",
        "# For example:\n",
        "# spark_version = 'spark-3.0.3'\n",
        "spark_version = 'spark-3.0.3'\n",
        "os.environ['SPARK_VERSION']=spark_version\n",
        "\n",
        "# Install Spark and Java\n",
        "!apt-get update\n",
        "!apt-get install openjdk-11-jdk-headless -qq > /dev/null\n",
        "!wget -q http://www.apache.org/dist/spark/$SPARK_VERSION/$SPARK_VERSION-bin-hadoop2.7.tgz\n",
        "!tar xf $SPARK_VERSION-bin-hadoop2.7.tgz\n",
        "!pip install -q findspark\n",
        "\n",
        "# Set Environment Variables\n",
        "import os\n",
        "os.environ[\"JAVA_HOME\"] = \"/usr/lib/jvm/java-11-openjdk-amd64\"\n",
        "os.environ[\"SPARK_HOME\"] = f\"/content/{spark_version}-bin-hadoop2.7\"\n",
        "\n",
        "# Start a SparkSession\n",
        "import findspark\n",
        "findspark.init()"
      ]
    },
    {
      "cell_type": "code",
      "source": [
        "# Download the Postgres driver that will allow Spark to interact with Postgres.\n",
        "!wget https://jdbc.postgresql.org/download/postgresql-42.2.16.jar"
      ],
      "metadata": {
        "colab": {
          "base_uri": "https://localhost:8080/"
        },
        "id": "XijxP5mbTc3R",
        "outputId": "57b1bd61-8ea6-4d1e-9b4d-046cca1a1547"
      },
      "execution_count": 2,
      "outputs": [
        {
          "output_type": "stream",
          "name": "stdout",
          "text": [
            "--2022-07-14 19:50:25--  https://jdbc.postgresql.org/download/postgresql-42.2.16.jar\n",
            "Resolving jdbc.postgresql.org (jdbc.postgresql.org)... 72.32.157.228, 2001:4800:3e1:1::228\n",
            "Connecting to jdbc.postgresql.org (jdbc.postgresql.org)|72.32.157.228|:443... connected.\n",
            "HTTP request sent, awaiting response... 200 OK\n",
            "Length: 1002883 (979K) [application/java-archive]\n",
            "Saving to: ‘postgresql-42.2.16.jar’\n",
            "\n",
            "postgresql-42.2.16. 100%[===================>] 979.38K  6.36MB/s    in 0.2s    \n",
            "\n",
            "2022-07-14 19:50:25 (6.36 MB/s) - ‘postgresql-42.2.16.jar’ saved [1002883/1002883]\n",
            "\n"
          ]
        }
      ]
    },
    {
      "cell_type": "code",
      "source": [
        "from pyspark.sql import SparkSession\n",
        "spark = SparkSession.builder.appName(\"M16-Amazon-Challenge\").config(\"spark.driver.extraClassPath\",\"/content/postgresql-42.2.16.jar\").getOrCreate()"
      ],
      "metadata": {
        "id": "RUezdLRgTizP"
      },
      "execution_count": 3,
      "outputs": []
    },
    {
      "cell_type": "markdown",
      "source": [
        "**Load Amazon Data into Spark DataFrame**"
      ],
      "metadata": {
        "id": "VSr_jNcaT2lG"
      }
    },
    {
      "cell_type": "code",
      "source": [
        "from pyspark import SparkFiles\n",
        "url = \"https://s3.amazonaws.com/amazon-reviews-pds/tsv/amazon_reviews_us_Electronics_v1_00.tsv.gz\"\n",
        "spark.sparkContext.addFile(url)\n",
        "df = spark.read.option(\"encoding\", \"UTF-8\").csv(SparkFiles.get(\"amazon_reviews_us_Electronics_v1_00.tsv.gz\"), sep=\"\\t\", header=True, inferSchema=True)\n",
        "df.show()"
      ],
      "metadata": {
        "colab": {
          "base_uri": "https://localhost:8080/"
        },
        "id": "fEtNEnuCT9G5",
        "outputId": "0d340e99-1474-4679-814e-e8e07a03a1a3"
      },
      "execution_count": 4,
      "outputs": [
        {
          "output_type": "stream",
          "name": "stdout",
          "text": [
            "+-----------+-----------+--------------+----------+--------------+--------------------+----------------+-----------+-------------+-----------+----+-----------------+--------------------+--------------------+-----------+\n",
            "|marketplace|customer_id|     review_id|product_id|product_parent|       product_title|product_category|star_rating|helpful_votes|total_votes|vine|verified_purchase|     review_headline|         review_body|review_date|\n",
            "+-----------+-----------+--------------+----------+--------------+--------------------+----------------+-----------+-------------+-----------+----+-----------------+--------------------+--------------------+-----------+\n",
            "|         US|   41409413|R2MTG1GCZLR2DK|B00428R89M|     112201306|yoomall 5M Antenn...|     Electronics|          5|            0|          0|   N|                Y|          Five Stars|       As described.| 2015-08-31|\n",
            "|         US|   49668221|R2HBOEM8LE9928|B000068O48|     734576678|Hosa GPM-103 3.5m...|     Electronics|          5|            0|          0|   N|                Y|It works as adver...|It works as adver...| 2015-08-31|\n",
            "|         US|   12338275|R1P4RW1R9FDPEE|B000GGKOG8|     614448099|Channel Master Ti...|     Electronics|          5|            1|          1|   N|                Y|          Five Stars|         Works pissa| 2015-08-31|\n",
            "|         US|   38487968|R1EBPM82ENI67M|B000NU4OTA|      72265257|LIMTECH Wall char...|     Electronics|          1|            0|          0|   N|                Y|            One Star|Did not work at all.| 2015-08-31|\n",
            "|         US|   23732619|R372S58V6D11AT|B00JOQIO6S|     308169188|Skullcandy Air Ra...|     Electronics|          5|            1|          1|   N|                Y|Overall pleased w...|Works well. Bass ...| 2015-08-31|\n",
            "|         US|   21257820|R1A4514XOYI1PD|B008NCD2LG|     976385982|Pioneer SP-BS22-L...|     Electronics|          5|            1|          1|   N|                Y|          Five Stars|The quality on th...| 2015-08-31|\n",
            "|         US|    3084991|R20D9EHB7N20V6|B00007FGUF|     670878953|C2G/Cables to Go ...|     Electronics|          5|            0|          0|   N|                Y|           Lifesaver|Wish I could give...| 2015-08-31|\n",
            "|         US|    8153674|R1WUTD8MVSROJU|B00M9V2RMM|     508452933|COOLEAD-HDMI Swit...|     Electronics|          5|            0|          0|   N|                Y|          Five Stars|         works great| 2015-08-31|\n",
            "|         US|   52246189|R1QCYLT25812DM|B00J3O9DYI|     766372886|Philips Wireless ...|     Electronics|          4|            0|          0|   N|                Y|          Four Stars|Great sound and c...| 2015-08-31|\n",
            "|         US|   41463864| R904DQPBCEM7A|B00NS1A0E4|     458130381|PlayStation 3 3D ...|     Electronics|          4|            0|          0|   N|                Y|          Four Stars|    It works well~~~| 2015-08-31|\n",
            "|         US|    2781942|R1DGA6UQIVLKZ7|B007B5V092|     152891509|JVC HAFR201A Xtre...|     Electronics|          5|            0|          0|   N|                Y|          Five Stars|           Alll good| 2015-08-31|\n",
            "|         US|     707292| RLQT3V8SMNIBH|B00IODHGVG|     717335277|Sylvania Alarm Cl...|     Electronics|          5|            0|          0|   N|                Y|          Five Stars|Love clock radio ...| 2015-08-31|\n",
            "|         US|   31463514|R3T9GZS2TMXZGM|B0035PBHX6|     249533961|Coby 8 GB 1.8-Inc...|     Electronics|          1|            0|          0|   N|                Y|            One Star|Breaks very easil...| 2015-08-31|\n",
            "|         US|   33475055|R24HVAEYP5PLDN|B00K1JJWFO|     635791633|Diamond (Original...|     Electronics|          5|            0|          1|   N|                Y|          Five Stars|Excellent gain in...| 2015-08-31|\n",
            "|         US|   16543871|R32KMAPNV5NJPJ|B00S3LJ5EA|     659360184|Kingvom 8gb 50 Ho...|     Electronics|          5|            0|          0|   N|                Y|          Five Stars|everything I expe...| 2015-08-31|\n",
            "|         US|   38472651| RC7VLPHUT6UAF|B00B5QNGN6|     564421014|JBL Ultra-Portabl...|     Electronics|          5|            0|          0|   N|                Y|          Five Stars|Love this small s...| 2015-08-31|\n",
            "|         US|   26946211|R3G1II8P4KGUAR|B00PLE8QF6|     685446417|YIPBOWPT Surface ...|     Electronics|          5|            0|          0|   N|                Y|       great product|works as advertis...| 2015-08-31|\n",
            "|         US|   10195727|R1UBFCBUALL6S5|B00GHUSIU6|     595255086|StarTech.com Mini...|     Electronics|          5|            0|          0|   N|                Y|          Five Stars|very good especia...| 2015-08-31|\n",
            "|         US|   47386264|R1WI5NISM6GAUG|B0045EJY90|     892920832|TEAC CD-P650-B Co...|     Electronics|          2|            4|          5|   N|                Y|It does not copy ...|It does not copy ...| 2015-08-31|\n",
            "|         US|   13000908|R27F4OF4BIA4LU|B003BT6BM8|     631236454|Philips SHS8100/2...|     Electronics|          2|            1|          1|   N|                Y|Did not last long...|Did not last long...| 2015-08-31|\n",
            "+-----------+-----------+--------------+----------+--------------+--------------------+----------------+-----------+-------------+-----------+----+-----------------+--------------------+--------------------+-----------+\n",
            "only showing top 20 rows\n",
            "\n"
          ]
        }
      ]
    },
    {
      "cell_type": "code",
      "source": [
        "df2 = df.filter(df[\"total_votes\"]>=20)\n",
        "df2.show()"
      ],
      "metadata": {
        "colab": {
          "base_uri": "https://localhost:8080/"
        },
        "id": "VC7jvXG2T_s1",
        "outputId": "0e057b5e-62cd-4ded-d16f-5275c1c62ba4"
      },
      "execution_count": 5,
      "outputs": [
        {
          "output_type": "stream",
          "name": "stdout",
          "text": [
            "+-----------+-----------+--------------+----------+--------------+--------------------+----------------+-----------+-------------+-----------+----+-----------------+--------------------+--------------------+-----------+\n",
            "|marketplace|customer_id|     review_id|product_id|product_parent|       product_title|product_category|star_rating|helpful_votes|total_votes|vine|verified_purchase|     review_headline|         review_body|review_date|\n",
            "+-----------+-----------+--------------+----------+--------------+--------------------+----------------+-----------+-------------+-----------+----+-----------------+--------------------+--------------------+-----------+\n",
            "|         US|   14380991|R1FBO737KD9F2N|B00NG57H4S|     213020860|Sony MDRZX110 Noi...|     Electronics|          5|           19|         23|   N|                Y|Great noise cance...|Great pair of hea...| 2015-08-31|\n",
            "|         US|   51242401|R227GSNWI6BSZV|B00ICNXESC|     111052608|GS Portalac PX120...|     Electronics|          1|           20|         20|   N|                Y|Garbage, lasted 8...|I bought this as ...| 2015-08-31|\n",
            "|         US|    8464339|R3SJTYZBYBG4EE|B00L108SAW|      95420273|Nitecore D4 Smart...|     Electronics|          4|           99|         99|   N|                Y|Very good charger...|Here’s the quicki...| 2015-08-31|\n",
            "|         US|   49422039|R248FG65D76D5Y|B00870ZLJ0|     572574607|AmazonBasics High...|     Electronics|          1|           42|         53|   N|                Y|            One Star|Second time I pur...| 2015-08-31|\n",
            "|         US|   53003148|R3B6BXFKGW52SG|B00L2CK758|     293737333|Kingzer Top Incep...|     Electronics|          1|           32|         32|   N|                Y|Not what it says ...|The headline for ...| 2015-08-31|\n",
            "|         US|   23904525| ROTIV4VYL31R4|B00I482KZI|     891566887|enKo products HDM...|     Electronics|          5|           26|         26|   N|                Y|Great adaptor for...|Ok,from what I've...| 2015-08-31|\n",
            "|         US|   51258332|R3VQ59LD2LSKY7|B00YMN6E7O|     750699576|Yamaha RX-A2050 9...|     Electronics|          5|           20|         25|   N|                Y|... from a Yamaha...|I'm upgrading fro...| 2015-08-31|\n",
            "|         US|   45413169| RIIGLD8JB7PX8|B003WGRUQQ|     332910155|Electrohome EAAC6...|     Electronics|          1|           32|         35|   N|                Y|         Malfunction|Malfunction..... ...| 2015-08-31|\n",
            "|         US|   12515906|R3MUBV21QV0IJK|B00TP1C1UC|     156534786|AmazonBasics 6-Ou...|     Electronics|          3|           77|         84|   N|                Y|Some disassembly ...|I noticed a small...| 2015-08-31|\n",
            "|         US|   14309542|R1V5W0X6BKIJYA|B00IUUN6L2|     331100546|Universal TV Stan...|     Electronics|          5|          129|        132|   N|                Y|Great product and...|I ordered this pr...| 2015-08-31|\n",
            "|         US|   17298259|R274AKHXHYGIN6|B00X69BUSI|     314540276|iHome Color Chang...|     Electronics|          5|           87|        100|   N|                N|  Great Alarm Clock!|For many many yea...| 2015-08-31|\n",
            "|         US|   36356690|R184FOUNZZ7KO8|B0117RFX38|     294335899|Bose SoundTrue Ar...|     Electronics|          5|           15|         20|   Y|                N|Transparent - Mus...|When I see the Bo...| 2015-08-31|\n",
            "|         US|   19397215| RVSZIYT9NB29U|B00C402ZYS|     776423002|Bluetooth 5.25\" I...|     Electronics|          5|           22|         46|   N|                Y|Wonderful for out...|Great outside spe...| 2015-08-31|\n",
            "|         US|   20926319|R1RDAOSARQUVFJ|B011JAH5KW|     844047695|Sonos 5.1 Home Th...|     Electronics|          2|            6|         26|   N|                N|Overpriced and un...|The sonos 5.1 sou...| 2015-08-31|\n",
            "|         US|   40053317| R88RERIQDYDT5|B011SLD1NC|     379220827|Apple iPod Touch ...|     Electronics|          2|           17|         26|   N|                N|Good Product, cra...|First of all, any...| 2015-08-31|\n",
            "|         US|   17993172| RLYK7DY9F6RUP|B005SUM1PO|     846365513|Sewell Direct Lun...|     Electronics|          4|           17|         20|   N|                Y|       Does the job!|I bought this to ...| 2015-08-31|\n",
            "|         US|   38916196|R3T31I7IKQ5LFQ|B00AXVWNGA|     832088064|[Black + MHL Gend...|     Electronics|          3|           52|         55|   N|                Y|One of the best H...|Update 11/16/2016...| 2015-08-31|\n",
            "|         US|    3116782| RZETLPHZJFYB8|B00M3NZKA2|     323890891|Sennheiser Urbani...|     Electronics|          5|           23|         24|   N|                Y|In-depth comparis...|TL;DR<br /> - I o...| 2015-08-31|\n",
            "|         US|   24133606|R1BG5NL9AX68QE|B00JRD13T8|     634946096|Sony Extra Bass E...|     Electronics|          1|           23|         29|   N|                Y|Fakes are horribl...|***knockoff alert...| 2015-08-31|\n",
            "|         US|   17993172|R1Y05HDL2AWCSA|B00ILCS182|     578563705|Yamaha RX-V677 7....|     Electronics|          5|          140|        145|   N|                Y|Outstanding recei...|When I set out to...| 2015-08-31|\n",
            "+-----------+-----------+--------------+----------+--------------+--------------------+----------------+-----------+-------------+-----------+----+-----------------+--------------------+--------------------+-----------+\n",
            "only showing top 20 rows\n",
            "\n"
          ]
        }
      ]
    },
    {
      "cell_type": "code",
      "source": [
        "df3 = df2.filter(df2[\"helpful_votes\"]/df2[\"total_votes\"]>=0.5)\n",
        "df3.show()"
      ],
      "metadata": {
        "colab": {
          "base_uri": "https://localhost:8080/"
        },
        "id": "CphrNo-kVgGO",
        "outputId": "4b6e1237-a5e6-4469-ae0e-381363531aaf"
      },
      "execution_count": 6,
      "outputs": [
        {
          "output_type": "stream",
          "name": "stdout",
          "text": [
            "+-----------+-----------+--------------+----------+--------------+--------------------+----------------+-----------+-------------+-----------+----+-----------------+--------------------+--------------------+-----------+\n",
            "|marketplace|customer_id|     review_id|product_id|product_parent|       product_title|product_category|star_rating|helpful_votes|total_votes|vine|verified_purchase|     review_headline|         review_body|review_date|\n",
            "+-----------+-----------+--------------+----------+--------------+--------------------+----------------+-----------+-------------+-----------+----+-----------------+--------------------+--------------------+-----------+\n",
            "|         US|   14380991|R1FBO737KD9F2N|B00NG57H4S|     213020860|Sony MDRZX110 Noi...|     Electronics|          5|           19|         23|   N|                Y|Great noise cance...|Great pair of hea...| 2015-08-31|\n",
            "|         US|   51242401|R227GSNWI6BSZV|B00ICNXESC|     111052608|GS Portalac PX120...|     Electronics|          1|           20|         20|   N|                Y|Garbage, lasted 8...|I bought this as ...| 2015-08-31|\n",
            "|         US|    8464339|R3SJTYZBYBG4EE|B00L108SAW|      95420273|Nitecore D4 Smart...|     Electronics|          4|           99|         99|   N|                Y|Very good charger...|Here’s the quicki...| 2015-08-31|\n",
            "|         US|   49422039|R248FG65D76D5Y|B00870ZLJ0|     572574607|AmazonBasics High...|     Electronics|          1|           42|         53|   N|                Y|            One Star|Second time I pur...| 2015-08-31|\n",
            "|         US|   53003148|R3B6BXFKGW52SG|B00L2CK758|     293737333|Kingzer Top Incep...|     Electronics|          1|           32|         32|   N|                Y|Not what it says ...|The headline for ...| 2015-08-31|\n",
            "|         US|   23904525| ROTIV4VYL31R4|B00I482KZI|     891566887|enKo products HDM...|     Electronics|          5|           26|         26|   N|                Y|Great adaptor for...|Ok,from what I've...| 2015-08-31|\n",
            "|         US|   51258332|R3VQ59LD2LSKY7|B00YMN6E7O|     750699576|Yamaha RX-A2050 9...|     Electronics|          5|           20|         25|   N|                Y|... from a Yamaha...|I'm upgrading fro...| 2015-08-31|\n",
            "|         US|   45413169| RIIGLD8JB7PX8|B003WGRUQQ|     332910155|Electrohome EAAC6...|     Electronics|          1|           32|         35|   N|                Y|         Malfunction|Malfunction..... ...| 2015-08-31|\n",
            "|         US|   12515906|R3MUBV21QV0IJK|B00TP1C1UC|     156534786|AmazonBasics 6-Ou...|     Electronics|          3|           77|         84|   N|                Y|Some disassembly ...|I noticed a small...| 2015-08-31|\n",
            "|         US|   14309542|R1V5W0X6BKIJYA|B00IUUN6L2|     331100546|Universal TV Stan...|     Electronics|          5|          129|        132|   N|                Y|Great product and...|I ordered this pr...| 2015-08-31|\n",
            "|         US|   17298259|R274AKHXHYGIN6|B00X69BUSI|     314540276|iHome Color Chang...|     Electronics|          5|           87|        100|   N|                N|  Great Alarm Clock!|For many many yea...| 2015-08-31|\n",
            "|         US|   36356690|R184FOUNZZ7KO8|B0117RFX38|     294335899|Bose SoundTrue Ar...|     Electronics|          5|           15|         20|   Y|                N|Transparent - Mus...|When I see the Bo...| 2015-08-31|\n",
            "|         US|   40053317| R88RERIQDYDT5|B011SLD1NC|     379220827|Apple iPod Touch ...|     Electronics|          2|           17|         26|   N|                N|Good Product, cra...|First of all, any...| 2015-08-31|\n",
            "|         US|   17993172| RLYK7DY9F6RUP|B005SUM1PO|     846365513|Sewell Direct Lun...|     Electronics|          4|           17|         20|   N|                Y|       Does the job!|I bought this to ...| 2015-08-31|\n",
            "|         US|   38916196|R3T31I7IKQ5LFQ|B00AXVWNGA|     832088064|[Black + MHL Gend...|     Electronics|          3|           52|         55|   N|                Y|One of the best H...|Update 11/16/2016...| 2015-08-31|\n",
            "|         US|    3116782| RZETLPHZJFYB8|B00M3NZKA2|     323890891|Sennheiser Urbani...|     Electronics|          5|           23|         24|   N|                Y|In-depth comparis...|TL;DR<br /> - I o...| 2015-08-31|\n",
            "|         US|   24133606|R1BG5NL9AX68QE|B00JRD13T8|     634946096|Sony Extra Bass E...|     Electronics|          1|           23|         29|   N|                Y|Fakes are horribl...|***knockoff alert...| 2015-08-31|\n",
            "|         US|   17993172|R1Y05HDL2AWCSA|B00ILCS182|     578563705|Yamaha RX-V677 7....|     Electronics|          5|          140|        145|   N|                Y|Outstanding recei...|When I set out to...| 2015-08-31|\n",
            "|         US|   47222116|R20EPERDBI56K8|B00XA0UX2W|     386880249|1byone Outdoor TV...|     Electronics|          1|           30|         37|   N|                Y|DON'T BUY THIS AN...|I purchased this ...| 2015-08-30|\n",
            "|         US|   46211392| RPTN47ZNQBPWE|B00YMN6EOM|     550798604|Yamaha RX-A3050 9...|     Electronics|          5|           20|         24|   N|                Y|First of all it h...|Ive had the 3050 ...| 2015-08-30|\n",
            "+-----------+-----------+--------------+----------+--------------+--------------------+----------------+-----------+-------------+-----------+----+-----------------+--------------------+--------------------+-----------+\n",
            "only showing top 20 rows\n",
            "\n"
          ]
        }
      ]
    },
    {
      "cell_type": "markdown",
      "source": [
        ""
      ],
      "metadata": {
        "id": "iUH5XIfCWBWz"
      }
    },
    {
      "cell_type": "code",
      "source": [
        "paid = df3.filter(df3[\"vine\"]==\"Y\")\n",
        "unpaid = df3.filter(df3[\"vine\"]==\"N\")\n",
        "paid.describe().show()\n",
        "unpaid.describe().show()"
      ],
      "metadata": {
        "colab": {
          "base_uri": "https://localhost:8080/"
        },
        "id": "6sMiDzXZV8C4",
        "outputId": "e011bb6e-ba5d-4424-f9b0-d8c7d6cc434c"
      },
      "execution_count": 7,
      "outputs": [
        {
          "output_type": "stream",
          "name": "stdout",
          "text": [
            "+-------+-----------+-------------------+--------------+----------+--------------------+--------------------+----------------+------------------+------------------+-----------------+----+-----------------+--------------------+--------------------+-----------+\n",
            "|summary|marketplace|        customer_id|     review_id|product_id|      product_parent|       product_title|product_category|       star_rating|     helpful_votes|      total_votes|vine|verified_purchase|     review_headline|         review_body|review_date|\n",
            "+-------+-----------+-------------------+--------------+----------+--------------------+--------------------+----------------+------------------+------------------+-----------------+----+-----------------+--------------------+--------------------+-----------+\n",
            "|  count|       1080|               1080|          1080|      1080|                1080|                1080|            1080|              1080|              1080|             1080|1080|             1080|                1080|                1080|       1080|\n",
            "|   mean|       null| 4.28817305712963E7|          null|      null| 5.193702674574074E8|                null|            null| 4.093518518518518| 69.19259259259259|77.24259259259259|null|             null|                null|                null|       null|\n",
            "| stddev|       null|1.186333654529001E7|          null|      null|2.8766021284530944E8|                null|            null|0.9834377437155114|140.20986501388205|148.5781746930746|null|             null|                null|                null|       null|\n",
            "|    min|         US|           10806172|R105D6YM2O2VUZ|B0001U2QM4|             1045353|3-Outlet Home Net...|     Electronics|                 1|                11|               20|   Y|                N|$6.99...are you k...|(Like many other ...| 2007-09-24|\n",
            "|    max|         US|           53096363| RZWZ3YZB95JXX|B012B7S46Q|           999454549|iSymphony W2 120-...|     Electronics|                 5|              2561|             2688|   Y|                Y|you can get bette...|this is a nice lo...| 2015-08-31|\n",
            "+-------+-----------+-------------------+--------------+----------+--------------------+--------------------+----------------+------------------+------------------+-----------------+----+-----------------+--------------------+--------------------+-----------+\n",
            "\n",
            "+-------+-----------+--------------------+--------------+--------------------+--------------------+--------------------+----------------+------------------+------------------+------------------+-----+-----------------+--------------------+--------------------+-----------+\n",
            "|summary|marketplace|         customer_id|     review_id|          product_id|      product_parent|       product_title|product_category|       star_rating|     helpful_votes|       total_votes| vine|verified_purchase|     review_headline|         review_body|review_date|\n",
            "+-------+-----------+--------------------+--------------+--------------------+--------------------+--------------------+----------------+------------------+------------------+------------------+-----+-----------------+--------------------+--------------------+-----------+\n",
            "|  count|      49673|               49673|         49673|               49673|               49673|               49673|           49673|             49673|             49673|             49673|49673|            49673|               49673|               49661|      49667|\n",
            "|   mean|       null|3.5108729960642606E7|          null|1.7993769249456522E9|5.0669452572733676E8|                null|            null|3.6498500191250782| 60.68725464538079| 66.70503090209974| null|             null|  1225.6666666666667|                null|       null|\n",
            "| stddev|       null|1.4894936791807018E7|          null|1.9887348068486247E9| 2.876426289030052E8|                null|            null|1.5646972640859573|154.93894290580138|161.00053469383883| null|             null|   2117.721023490425|                null|       null|\n",
            "|    min|         US|               15666|R1006F8KOWS090|          0528881469|               87429|\"Philco\" Universa...|     Electronics|                 1|                10|                20|    N|                N|         GREAT  BUY |\u001aWell, this case ...| 1999-06-24|\n",
            "|    max|         US|            53096576| RZZP7QMQJULXP|          B013UBL9M8|           999991133|{Waterproof Sport...|     Electronics|                 5|             12786|             12944|    N|                Y|😳Very much much ...|♥️Omg I love it. ...| 2015-08-31|\n",
            "+-------+-----------+--------------------+--------------+--------------------+--------------------+--------------------+----------------+------------------+------------------+------------------+-----+-----------------+--------------------+--------------------+-----------+\n",
            "\n"
          ]
        }
      ]
    },
    {
      "cell_type": "code",
      "source": [
        "paid_count = paid.count()\n",
        "paid_five_star = paid[paid[\"star_rating\"]==5].count()\n",
        "percentage_paid_five_star = paid_five_star/paid_count\n",
        "print(paid_count)\n",
        "print(paid_five_star)\n",
        "print(percentage_paid_five_star)"
      ],
      "metadata": {
        "colab": {
          "base_uri": "https://localhost:8080/"
        },
        "id": "MnPIiZ51Q5Ck",
        "outputId": "fc0912b2-74f4-438a-8015-821b0d368f37"
      },
      "execution_count": 8,
      "outputs": [
        {
          "output_type": "stream",
          "name": "stdout",
          "text": [
            "1080\n",
            "454\n",
            "0.4203703703703704\n"
          ]
        }
      ]
    },
    {
      "cell_type": "code",
      "source": [
        "unpaid_count = unpaid.count()\n",
        "unpaid_five_star = unpaid[unpaid[\"star_rating\"]==5].count()\n",
        "percentage_unpaid_five_star = unpaid_five_star/unpaid_count\n",
        "print(unpaid_count)\n",
        "print(unpaid_five_star)\n",
        "print(percentage_unpaid_five_star)"
      ],
      "metadata": {
        "colab": {
          "base_uri": "https://localhost:8080/"
        },
        "id": "2uegJKK0R4O3",
        "outputId": "725bbf36-e8de-4947-d508-d13e0021ad71"
      },
      "execution_count": 9,
      "outputs": [
        {
          "output_type": "stream",
          "name": "stdout",
          "text": [
            "49673\n",
            "23043\n",
            "0.463893865882874\n"
          ]
        }
      ]
    }
  ]
}